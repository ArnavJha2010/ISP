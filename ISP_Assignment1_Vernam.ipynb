{
  "nbformat": 4,
  "nbformat_minor": 0,
  "metadata": {
    "colab": {
      "provenance": []
    },
    "kernelspec": {
      "name": "python3",
      "display_name": "Python 3"
    },
    "language_info": {
      "name": "python"
    }
  },
  "cells": [
    {
      "cell_type": "code",
      "execution_count": 2,
      "metadata": {
        "id": "oVcORSCRDJCx",
        "colab": {
          "base_uri": "https://localhost:8080/"
        },
        "outputId": "fce9f574-47f3-4025-d39a-7e355f7aee88"
      },
      "outputs": [
        {
          "output_type": "stream",
          "name": "stdout",
          "text": [
            "Enter the message: Hello\n",
            "Enter the one time pad: SecureMessage\n",
            "Encrypted message is: zinff\n"
          ]
        }
      ],
      "source": [
        "def encrypt_vernam(plain_text, key):\n",
        "    plain_text = plain_text.replace(\" \", \"\").lower()\n",
        "    key = key.replace(\" \", \"\").lower()\n",
        "\n",
        "    if len(key) < len(plain_text):\n",
        "        key = (key * (len(plain_text) // len(key) + 1))[:len(plain_text)]\n",
        "    elif len(key) > len(plain_text):\n",
        "        key = key[:len(plain_text)]\n",
        "\n",
        "    cipher_text = \"\"\n",
        "    for i in range(len(plain_text)):\n",
        "        pt_char = ord(plain_text[i]) - 97\n",
        "        key_char = ord(key[i]) - 97\n",
        "        encrypted_char = chr(((pt_char + key_char) % 26) + 97)\n",
        "        cipher_text += encrypted_char\n",
        "\n",
        "    return cipher_text\n",
        "\n",
        "plain_text = input(\"Enter the message: \")\n",
        "key = input(\"Enter the one time pad: \")\n",
        "\n",
        "encrypted_message = encrypt_vernam(plain_text, key)\n",
        "print(\"Encrypted message is:\", encrypted_message)\n"
      ]
    }
  ]
}